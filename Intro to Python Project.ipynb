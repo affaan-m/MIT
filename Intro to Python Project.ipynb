{
 "cells": [
  {
   "cell_type": "markdown",
   "metadata": {},
   "source": [
    "## <center>Introduction to Python Programming – Mini Project</center>\n"
   ]
  },
  {
   "cell_type": "markdown",
   "metadata": {},
   "source": [
    "### Problem 1\n",
    "\n",
    "Write a program to calculate area of shapes. Your program should be capable of calculating the area of a square, rectangle, triangle and a circle. The user should be presented with options to select the shape. Based on which shape is chosen by the user, the program should ask for the appropriate input and print the resulting area on the screen.\n",
    "\n",
    "When the program is run, the screen should display something like this:\n",
    "\n",
    "**Which shape would you like to calculate the area for? Please enter the option number-**<br>\n",
    "**1. Square**<br>\n",
    "**2. Rectangle**<br>\n",
    "**3. Triangle**<br>\n",
    "**4. Circle**<br>\n",
    "**Enter Option: _**\n",
    "\n",
    "Say the user enters the option 1.\n",
    "\n",
    "**Please enter the length of a side: _**\n",
    "\n",
    "If the user enters a value of 5. The output should be:\n",
    "\n",
    "**The area of the square is 25**\n",
    "\n",
    "This program should indicate that the input is invalid if the user enters a character instead of a number as input. For instance if the user enters a value of ‘a’ instead of 5 in the previous example the program should prompt:\n",
    "\n",
    "**Invalid input, please enter a number: _**\n"
   ]
  },
  {
   "cell_type": "code",
   "execution_count": 36,
   "metadata": {},
   "outputs": [
    {
     "name": "stdout",
     "output_type": "stream",
     "text": [
      "Which shape would you like to calculate the area for? Please enter the option number - \n",
      "1. Square \n",
      "2. Rectangle \n",
      "3. Triangle \n",
      "4. Circle\n",
      "4\n",
      "Please enter the radius of the circle\n",
      "5\n",
      "The area of your circle is: \n",
      "78.5\n"
     ]
    }
   ],
   "source": [
    "def square(x):\n",
    "    return x*x\n",
    "def rectangle(x, y):\n",
    "    return x*y\n",
    "def triangle(x, y):\n",
    "    return x*y*0.5\n",
    "def circle(x):\n",
    "    return 3.14*x*x\n",
    "\n",
    "print(\"Which shape would you like to calculate the area for? Please enter the option number - \\n1. Square \\n2. Rectangle \\n3. Triangle \\n4. Circle\")\n",
    "usershape = int(input())\n",
    "\n",
    "if usershape == 1:\n",
    "    print(\"Please enter the length of a side:\")\n",
    "    sidesquare = int(input())\n",
    "    print(\"The area of your square is: \")\n",
    "    print(square(sidesquare))\n",
    "elif usershape == 2:\n",
    "    print(\"Please enter the length:\")\n",
    "    lengthR = int(input())\n",
    "    print(\"Please enter the width\")\n",
    "    widthR = int(input())\n",
    "    print(\"The area of your rectangle is: \")\n",
    "    print(rectangle(lengthR, widthR))\n",
    "elif usershape == 3:\n",
    "    print(\"Please enter the the base\")\n",
    "    side1T = int(input())\n",
    "    print(\"enter the height\")\n",
    "    side2T = int(input())\n",
    "    print(\"the area of your triangle is: \")\n",
    "    print(triangle(side1T, side2T))\n",
    "elif usershape == 4:\n",
    "    print(\"Please enter the radius of the circle\")\n",
    "    radius = int(input())\n",
    "    print(\"The area of your circle is: \")\n",
    "    print(circle(radius))\n",
    "else: \n",
    "    print(\"Invalid input please enter a number 1, 2, 3 or 4 - \")"
   ]
  },
  {
   "cell_type": "markdown",
   "metadata": {},
   "source": [
    "#### Problem 2\n",
    "\n",
    "You have newly joined an organization abc.com. Write a python function that will take your 1st and last name as input and print the official mail as which has a format like firstname.lastname@abc.com\n",
    "\n",
    "When the program is run, the screen should display something like this:\n",
    "\n",
    "Enter your first name: nikhil\n",
    "\n",
    "Enter your last name: agrawal\n",
    "\n",
    "You official email id is nikhil.agrawal@abc.com \n",
    "\n",
    "**Hint:** use string concatenation."
   ]
  },
  {
   "cell_type": "code",
   "execution_count": 37,
   "metadata": {},
   "outputs": [
    {
     "name": "stdout",
     "output_type": "stream",
     "text": [
      "enter your first name: \n",
      "affaan\n",
      "enter your last name: \n",
      "mustafa\n",
      "Your official email id is affaan.mustafa@abc.com\n"
     ]
    }
   ],
   "source": [
    "print(\"enter your first name: \")\n",
    "firstname = input()\n",
    "print(\"enter your last name: \")\n",
    "lastname = input()\n",
    "print('Your official email id is ' + firstname + '.' + lastname + '@abc.com')"
   ]
  },
  {
   "cell_type": "code",
   "execution_count": 38,
   "metadata": {},
   "outputs": [
    {
     "data": {
      "text/plain": [
       "6"
      ]
     },
     "execution_count": 38,
     "metadata": {},
     "output_type": "execute_result"
    }
   ],
   "source": [
    "name = \"affaan\"\n",
    "len(name)"
   ]
  },
  {
   "cell_type": "code",
   "execution_count": null,
   "metadata": {},
   "outputs": [],
   "source": []
  }
 ],
 "metadata": {
  "kernelspec": {
   "display_name": "Python 3 (ipykernel)",
   "language": "python",
   "name": "python3"
  },
  "language_info": {
   "codemirror_mode": {
    "name": "ipython",
    "version": 3
   },
   "file_extension": ".py",
   "mimetype": "text/x-python",
   "name": "python",
   "nbconvert_exporter": "python",
   "pygments_lexer": "ipython3",
   "version": "3.9.13"
  }
 },
 "nbformat": 4,
 "nbformat_minor": 2
}
